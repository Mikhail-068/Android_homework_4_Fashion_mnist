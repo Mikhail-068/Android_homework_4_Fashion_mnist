{
  "nbformat": 4,
  "nbformat_minor": 0,
  "metadata": {
    "colab": {
      "provenance": [],
      "gpuType": "T4",
      "include_colab_link": true
    },
    "kernelspec": {
      "name": "python3",
      "display_name": "Python 3"
    },
    "language_info": {
      "name": "python"
    },
    "widgets": {
      "application/vnd.jupyter.widget-state+json": {
        "d00c65cb7cfb42fe8fed82a89373714c": {
          "model_module": "@jupyter-widgets/controls",
          "model_name": "HBoxModel",
          "model_module_version": "1.5.0",
          "state": {
            "_dom_classes": [],
            "_model_module": "@jupyter-widgets/controls",
            "_model_module_version": "1.5.0",
            "_model_name": "HBoxModel",
            "_view_count": null,
            "_view_module": "@jupyter-widgets/controls",
            "_view_module_version": "1.5.0",
            "_view_name": "HBoxView",
            "box_style": "",
            "children": [
              "IPY_MODEL_43cdc4db950a42478896a7560e3033a5",
              "IPY_MODEL_64550782355647f38c707d607824f649",
              "IPY_MODEL_923019e8d61c422892e7ea1a2d0d3bb9"
            ],
            "layout": "IPY_MODEL_160cddba6a8d4d1a930038e79c33860e"
          }
        },
        "43cdc4db950a42478896a7560e3033a5": {
          "model_module": "@jupyter-widgets/controls",
          "model_name": "HTMLModel",
          "model_module_version": "1.5.0",
          "state": {
            "_dom_classes": [],
            "_model_module": "@jupyter-widgets/controls",
            "_model_module_version": "1.5.0",
            "_model_name": "HTMLModel",
            "_view_count": null,
            "_view_module": "@jupyter-widgets/controls",
            "_view_module_version": "1.5.0",
            "_view_name": "HTMLView",
            "description": "",
            "description_tooltip": null,
            "layout": "IPY_MODEL_4d241913a4864b7e8b93d081f2684217",
            "placeholder": "​",
            "style": "IPY_MODEL_fe99a21327df4cc696aaee39beb01f87",
            "value": "Сохранение: 100%"
          }
        },
        "64550782355647f38c707d607824f649": {
          "model_module": "@jupyter-widgets/controls",
          "model_name": "FloatProgressModel",
          "model_module_version": "1.5.0",
          "state": {
            "_dom_classes": [],
            "_model_module": "@jupyter-widgets/controls",
            "_model_module_version": "1.5.0",
            "_model_name": "FloatProgressModel",
            "_view_count": null,
            "_view_module": "@jupyter-widgets/controls",
            "_view_module_version": "1.5.0",
            "_view_name": "ProgressView",
            "bar_style": "success",
            "description": "",
            "description_tooltip": null,
            "layout": "IPY_MODEL_9a0ff37a766c44d7aa0e6fbc3c959385",
            "max": 100,
            "min": 0,
            "orientation": "horizontal",
            "style": "IPY_MODEL_150bd798c0234849ba25336063174340",
            "value": 100
          }
        },
        "923019e8d61c422892e7ea1a2d0d3bb9": {
          "model_module": "@jupyter-widgets/controls",
          "model_name": "HTMLModel",
          "model_module_version": "1.5.0",
          "state": {
            "_dom_classes": [],
            "_model_module": "@jupyter-widgets/controls",
            "_model_module_version": "1.5.0",
            "_model_name": "HTMLModel",
            "_view_count": null,
            "_view_module": "@jupyter-widgets/controls",
            "_view_module_version": "1.5.0",
            "_view_name": "HTMLView",
            "description": "",
            "description_tooltip": null,
            "layout": "IPY_MODEL_974505ffc2e2464d88c786cd054c9cb1",
            "placeholder": "​",
            "style": "IPY_MODEL_8e931fb6d8c64bae8cae152877039944",
            "value": " 100/100 [00:00&lt;00:00, 595.52it/s]"
          }
        },
        "160cddba6a8d4d1a930038e79c33860e": {
          "model_module": "@jupyter-widgets/base",
          "model_name": "LayoutModel",
          "model_module_version": "1.2.0",
          "state": {
            "_model_module": "@jupyter-widgets/base",
            "_model_module_version": "1.2.0",
            "_model_name": "LayoutModel",
            "_view_count": null,
            "_view_module": "@jupyter-widgets/base",
            "_view_module_version": "1.2.0",
            "_view_name": "LayoutView",
            "align_content": null,
            "align_items": null,
            "align_self": null,
            "border": null,
            "bottom": null,
            "display": null,
            "flex": null,
            "flex_flow": null,
            "grid_area": null,
            "grid_auto_columns": null,
            "grid_auto_flow": null,
            "grid_auto_rows": null,
            "grid_column": null,
            "grid_gap": null,
            "grid_row": null,
            "grid_template_areas": null,
            "grid_template_columns": null,
            "grid_template_rows": null,
            "height": null,
            "justify_content": null,
            "justify_items": null,
            "left": null,
            "margin": null,
            "max_height": null,
            "max_width": null,
            "min_height": null,
            "min_width": null,
            "object_fit": null,
            "object_position": null,
            "order": null,
            "overflow": null,
            "overflow_x": null,
            "overflow_y": null,
            "padding": null,
            "right": null,
            "top": null,
            "visibility": null,
            "width": null
          }
        },
        "4d241913a4864b7e8b93d081f2684217": {
          "model_module": "@jupyter-widgets/base",
          "model_name": "LayoutModel",
          "model_module_version": "1.2.0",
          "state": {
            "_model_module": "@jupyter-widgets/base",
            "_model_module_version": "1.2.0",
            "_model_name": "LayoutModel",
            "_view_count": null,
            "_view_module": "@jupyter-widgets/base",
            "_view_module_version": "1.2.0",
            "_view_name": "LayoutView",
            "align_content": null,
            "align_items": null,
            "align_self": null,
            "border": null,
            "bottom": null,
            "display": null,
            "flex": null,
            "flex_flow": null,
            "grid_area": null,
            "grid_auto_columns": null,
            "grid_auto_flow": null,
            "grid_auto_rows": null,
            "grid_column": null,
            "grid_gap": null,
            "grid_row": null,
            "grid_template_areas": null,
            "grid_template_columns": null,
            "grid_template_rows": null,
            "height": null,
            "justify_content": null,
            "justify_items": null,
            "left": null,
            "margin": null,
            "max_height": null,
            "max_width": null,
            "min_height": null,
            "min_width": null,
            "object_fit": null,
            "object_position": null,
            "order": null,
            "overflow": null,
            "overflow_x": null,
            "overflow_y": null,
            "padding": null,
            "right": null,
            "top": null,
            "visibility": null,
            "width": null
          }
        },
        "fe99a21327df4cc696aaee39beb01f87": {
          "model_module": "@jupyter-widgets/controls",
          "model_name": "DescriptionStyleModel",
          "model_module_version": "1.5.0",
          "state": {
            "_model_module": "@jupyter-widgets/controls",
            "_model_module_version": "1.5.0",
            "_model_name": "DescriptionStyleModel",
            "_view_count": null,
            "_view_module": "@jupyter-widgets/base",
            "_view_module_version": "1.2.0",
            "_view_name": "StyleView",
            "description_width": ""
          }
        },
        "9a0ff37a766c44d7aa0e6fbc3c959385": {
          "model_module": "@jupyter-widgets/base",
          "model_name": "LayoutModel",
          "model_module_version": "1.2.0",
          "state": {
            "_model_module": "@jupyter-widgets/base",
            "_model_module_version": "1.2.0",
            "_model_name": "LayoutModel",
            "_view_count": null,
            "_view_module": "@jupyter-widgets/base",
            "_view_module_version": "1.2.0",
            "_view_name": "LayoutView",
            "align_content": null,
            "align_items": null,
            "align_self": null,
            "border": null,
            "bottom": null,
            "display": null,
            "flex": null,
            "flex_flow": null,
            "grid_area": null,
            "grid_auto_columns": null,
            "grid_auto_flow": null,
            "grid_auto_rows": null,
            "grid_column": null,
            "grid_gap": null,
            "grid_row": null,
            "grid_template_areas": null,
            "grid_template_columns": null,
            "grid_template_rows": null,
            "height": null,
            "justify_content": null,
            "justify_items": null,
            "left": null,
            "margin": null,
            "max_height": null,
            "max_width": null,
            "min_height": null,
            "min_width": null,
            "object_fit": null,
            "object_position": null,
            "order": null,
            "overflow": null,
            "overflow_x": null,
            "overflow_y": null,
            "padding": null,
            "right": null,
            "top": null,
            "visibility": null,
            "width": null
          }
        },
        "150bd798c0234849ba25336063174340": {
          "model_module": "@jupyter-widgets/controls",
          "model_name": "ProgressStyleModel",
          "model_module_version": "1.5.0",
          "state": {
            "_model_module": "@jupyter-widgets/controls",
            "_model_module_version": "1.5.0",
            "_model_name": "ProgressStyleModel",
            "_view_count": null,
            "_view_module": "@jupyter-widgets/base",
            "_view_module_version": "1.2.0",
            "_view_name": "StyleView",
            "bar_color": null,
            "description_width": ""
          }
        },
        "974505ffc2e2464d88c786cd054c9cb1": {
          "model_module": "@jupyter-widgets/base",
          "model_name": "LayoutModel",
          "model_module_version": "1.2.0",
          "state": {
            "_model_module": "@jupyter-widgets/base",
            "_model_module_version": "1.2.0",
            "_model_name": "LayoutModel",
            "_view_count": null,
            "_view_module": "@jupyter-widgets/base",
            "_view_module_version": "1.2.0",
            "_view_name": "LayoutView",
            "align_content": null,
            "align_items": null,
            "align_self": null,
            "border": null,
            "bottom": null,
            "display": null,
            "flex": null,
            "flex_flow": null,
            "grid_area": null,
            "grid_auto_columns": null,
            "grid_auto_flow": null,
            "grid_auto_rows": null,
            "grid_column": null,
            "grid_gap": null,
            "grid_row": null,
            "grid_template_areas": null,
            "grid_template_columns": null,
            "grid_template_rows": null,
            "height": null,
            "justify_content": null,
            "justify_items": null,
            "left": null,
            "margin": null,
            "max_height": null,
            "max_width": null,
            "min_height": null,
            "min_width": null,
            "object_fit": null,
            "object_position": null,
            "order": null,
            "overflow": null,
            "overflow_x": null,
            "overflow_y": null,
            "padding": null,
            "right": null,
            "top": null,
            "visibility": null,
            "width": null
          }
        },
        "8e931fb6d8c64bae8cae152877039944": {
          "model_module": "@jupyter-widgets/controls",
          "model_name": "DescriptionStyleModel",
          "model_module_version": "1.5.0",
          "state": {
            "_model_module": "@jupyter-widgets/controls",
            "_model_module_version": "1.5.0",
            "_model_name": "DescriptionStyleModel",
            "_view_count": null,
            "_view_module": "@jupyter-widgets/base",
            "_view_module_version": "1.2.0",
            "_view_name": "StyleView",
            "description_width": ""
          }
        },
        "f27dc33b0b1a433294cbf0f67b36d1e0": {
          "model_module": "@jupyter-widgets/controls",
          "model_name": "HBoxModel",
          "model_module_version": "1.5.0",
          "state": {
            "_dom_classes": [],
            "_model_module": "@jupyter-widgets/controls",
            "_model_module_version": "1.5.0",
            "_model_name": "HBoxModel",
            "_view_count": null,
            "_view_module": "@jupyter-widgets/controls",
            "_view_module_version": "1.5.0",
            "_view_name": "HBoxView",
            "box_style": "",
            "children": [
              "IPY_MODEL_4b300a6603fb447588c68115c3e566ee",
              "IPY_MODEL_c406bc7cf69349689623157908c01270",
              "IPY_MODEL_55545b9efc6a4c958df0e12822f98bf6"
            ],
            "layout": "IPY_MODEL_aa644710239949b59deee7bcf9c8915c"
          }
        },
        "4b300a6603fb447588c68115c3e566ee": {
          "model_module": "@jupyter-widgets/controls",
          "model_name": "HTMLModel",
          "model_module_version": "1.5.0",
          "state": {
            "_dom_classes": [],
            "_model_module": "@jupyter-widgets/controls",
            "_model_module_version": "1.5.0",
            "_model_name": "HTMLModel",
            "_view_count": null,
            "_view_module": "@jupyter-widgets/controls",
            "_view_module_version": "1.5.0",
            "_view_name": "HTMLView",
            "description": "",
            "description_tooltip": null,
            "layout": "IPY_MODEL_2ba48f4192c645d7ab8a0dfadba3f956",
            "placeholder": "​",
            "style": "IPY_MODEL_58d26b28232c43f8b7377fddb75357b7",
            "value": "Сохранение изображений: 100%"
          }
        },
        "c406bc7cf69349689623157908c01270": {
          "model_module": "@jupyter-widgets/controls",
          "model_name": "FloatProgressModel",
          "model_module_version": "1.5.0",
          "state": {
            "_dom_classes": [],
            "_model_module": "@jupyter-widgets/controls",
            "_model_module_version": "1.5.0",
            "_model_name": "FloatProgressModel",
            "_view_count": null,
            "_view_module": "@jupyter-widgets/controls",
            "_view_module_version": "1.5.0",
            "_view_name": "ProgressView",
            "bar_style": "success",
            "description": "",
            "description_tooltip": null,
            "layout": "IPY_MODEL_0231c0e72d554fd186623aed87351622",
            "max": 10000,
            "min": 0,
            "orientation": "horizontal",
            "style": "IPY_MODEL_5b87ddc63f1a47c9824a7c89e0fbe453",
            "value": 10000
          }
        },
        "55545b9efc6a4c958df0e12822f98bf6": {
          "model_module": "@jupyter-widgets/controls",
          "model_name": "HTMLModel",
          "model_module_version": "1.5.0",
          "state": {
            "_dom_classes": [],
            "_model_module": "@jupyter-widgets/controls",
            "_model_module_version": "1.5.0",
            "_model_name": "HTMLModel",
            "_view_count": null,
            "_view_module": "@jupyter-widgets/controls",
            "_view_module_version": "1.5.0",
            "_view_name": "HTMLView",
            "description": "",
            "description_tooltip": null,
            "layout": "IPY_MODEL_1e998e1508b746228aa22173568f4c63",
            "placeholder": "​",
            "style": "IPY_MODEL_76d389039d3846d3a413f5d66be76d5a",
            "value": " 10000/10000 [00:10&lt;00:00, 957.40it/s]"
          }
        },
        "aa644710239949b59deee7bcf9c8915c": {
          "model_module": "@jupyter-widgets/base",
          "model_name": "LayoutModel",
          "model_module_version": "1.2.0",
          "state": {
            "_model_module": "@jupyter-widgets/base",
            "_model_module_version": "1.2.0",
            "_model_name": "LayoutModel",
            "_view_count": null,
            "_view_module": "@jupyter-widgets/base",
            "_view_module_version": "1.2.0",
            "_view_name": "LayoutView",
            "align_content": null,
            "align_items": null,
            "align_self": null,
            "border": null,
            "bottom": null,
            "display": null,
            "flex": null,
            "flex_flow": null,
            "grid_area": null,
            "grid_auto_columns": null,
            "grid_auto_flow": null,
            "grid_auto_rows": null,
            "grid_column": null,
            "grid_gap": null,
            "grid_row": null,
            "grid_template_areas": null,
            "grid_template_columns": null,
            "grid_template_rows": null,
            "height": null,
            "justify_content": null,
            "justify_items": null,
            "left": null,
            "margin": null,
            "max_height": null,
            "max_width": null,
            "min_height": null,
            "min_width": null,
            "object_fit": null,
            "object_position": null,
            "order": null,
            "overflow": null,
            "overflow_x": null,
            "overflow_y": null,
            "padding": null,
            "right": null,
            "top": null,
            "visibility": null,
            "width": null
          }
        },
        "2ba48f4192c645d7ab8a0dfadba3f956": {
          "model_module": "@jupyter-widgets/base",
          "model_name": "LayoutModel",
          "model_module_version": "1.2.0",
          "state": {
            "_model_module": "@jupyter-widgets/base",
            "_model_module_version": "1.2.0",
            "_model_name": "LayoutModel",
            "_view_count": null,
            "_view_module": "@jupyter-widgets/base",
            "_view_module_version": "1.2.0",
            "_view_name": "LayoutView",
            "align_content": null,
            "align_items": null,
            "align_self": null,
            "border": null,
            "bottom": null,
            "display": null,
            "flex": null,
            "flex_flow": null,
            "grid_area": null,
            "grid_auto_columns": null,
            "grid_auto_flow": null,
            "grid_auto_rows": null,
            "grid_column": null,
            "grid_gap": null,
            "grid_row": null,
            "grid_template_areas": null,
            "grid_template_columns": null,
            "grid_template_rows": null,
            "height": null,
            "justify_content": null,
            "justify_items": null,
            "left": null,
            "margin": null,
            "max_height": null,
            "max_width": null,
            "min_height": null,
            "min_width": null,
            "object_fit": null,
            "object_position": null,
            "order": null,
            "overflow": null,
            "overflow_x": null,
            "overflow_y": null,
            "padding": null,
            "right": null,
            "top": null,
            "visibility": null,
            "width": null
          }
        },
        "58d26b28232c43f8b7377fddb75357b7": {
          "model_module": "@jupyter-widgets/controls",
          "model_name": "DescriptionStyleModel",
          "model_module_version": "1.5.0",
          "state": {
            "_model_module": "@jupyter-widgets/controls",
            "_model_module_version": "1.5.0",
            "_model_name": "DescriptionStyleModel",
            "_view_count": null,
            "_view_module": "@jupyter-widgets/base",
            "_view_module_version": "1.2.0",
            "_view_name": "StyleView",
            "description_width": ""
          }
        },
        "0231c0e72d554fd186623aed87351622": {
          "model_module": "@jupyter-widgets/base",
          "model_name": "LayoutModel",
          "model_module_version": "1.2.0",
          "state": {
            "_model_module": "@jupyter-widgets/base",
            "_model_module_version": "1.2.0",
            "_model_name": "LayoutModel",
            "_view_count": null,
            "_view_module": "@jupyter-widgets/base",
            "_view_module_version": "1.2.0",
            "_view_name": "LayoutView",
            "align_content": null,
            "align_items": null,
            "align_self": null,
            "border": null,
            "bottom": null,
            "display": null,
            "flex": null,
            "flex_flow": null,
            "grid_area": null,
            "grid_auto_columns": null,
            "grid_auto_flow": null,
            "grid_auto_rows": null,
            "grid_column": null,
            "grid_gap": null,
            "grid_row": null,
            "grid_template_areas": null,
            "grid_template_columns": null,
            "grid_template_rows": null,
            "height": null,
            "justify_content": null,
            "justify_items": null,
            "left": null,
            "margin": null,
            "max_height": null,
            "max_width": null,
            "min_height": null,
            "min_width": null,
            "object_fit": null,
            "object_position": null,
            "order": null,
            "overflow": null,
            "overflow_x": null,
            "overflow_y": null,
            "padding": null,
            "right": null,
            "top": null,
            "visibility": null,
            "width": null
          }
        },
        "5b87ddc63f1a47c9824a7c89e0fbe453": {
          "model_module": "@jupyter-widgets/controls",
          "model_name": "ProgressStyleModel",
          "model_module_version": "1.5.0",
          "state": {
            "_model_module": "@jupyter-widgets/controls",
            "_model_module_version": "1.5.0",
            "_model_name": "ProgressStyleModel",
            "_view_count": null,
            "_view_module": "@jupyter-widgets/base",
            "_view_module_version": "1.2.0",
            "_view_name": "StyleView",
            "bar_color": null,
            "description_width": ""
          }
        },
        "1e998e1508b746228aa22173568f4c63": {
          "model_module": "@jupyter-widgets/base",
          "model_name": "LayoutModel",
          "model_module_version": "1.2.0",
          "state": {
            "_model_module": "@jupyter-widgets/base",
            "_model_module_version": "1.2.0",
            "_model_name": "LayoutModel",
            "_view_count": null,
            "_view_module": "@jupyter-widgets/base",
            "_view_module_version": "1.2.0",
            "_view_name": "LayoutView",
            "align_content": null,
            "align_items": null,
            "align_self": null,
            "border": null,
            "bottom": null,
            "display": null,
            "flex": null,
            "flex_flow": null,
            "grid_area": null,
            "grid_auto_columns": null,
            "grid_auto_flow": null,
            "grid_auto_rows": null,
            "grid_column": null,
            "grid_gap": null,
            "grid_row": null,
            "grid_template_areas": null,
            "grid_template_columns": null,
            "grid_template_rows": null,
            "height": null,
            "justify_content": null,
            "justify_items": null,
            "left": null,
            "margin": null,
            "max_height": null,
            "max_width": null,
            "min_height": null,
            "min_width": null,
            "object_fit": null,
            "object_position": null,
            "order": null,
            "overflow": null,
            "overflow_x": null,
            "overflow_y": null,
            "padding": null,
            "right": null,
            "top": null,
            "visibility": null,
            "width": null
          }
        },
        "76d389039d3846d3a413f5d66be76d5a": {
          "model_module": "@jupyter-widgets/controls",
          "model_name": "DescriptionStyleModel",
          "model_module_version": "1.5.0",
          "state": {
            "_model_module": "@jupyter-widgets/controls",
            "_model_module_version": "1.5.0",
            "_model_name": "DescriptionStyleModel",
            "_view_count": null,
            "_view_module": "@jupyter-widgets/base",
            "_view_module_version": "1.2.0",
            "_view_name": "StyleView",
            "description_width": ""
          }
        }
      }
    },
    "accelerator": "GPU"
  },
  "cells": [
    {
      "cell_type": "markdown",
      "metadata": {
        "id": "view-in-github",
        "colab_type": "text"
      },
      "source": [
        "<a href=\"https://colab.research.google.com/github/Mikhail-068/Android_homework_4_Fashion_mnist/blob/master/%22Fashion_mnist%22_(%D0%A0%D0%B0%D0%B7%D0%B1%D0%BE%D1%80).ipynb\" target=\"_parent\"><img src=\"https://colab.research.google.com/assets/colab-badge.svg\" alt=\"Open In Colab\"/></a>"
      ]
    },
    {
      "cell_type": "markdown",
      "metadata": {
        "id": "iKVf4kq5_LkZ"
      },
      "source": [
        "##Импорт библиотек"
      ]
    },
    {
      "cell_type": "code",
      "metadata": {
        "id": "b2-CygQC2DMy"
      },
      "source": [
        "# Последовательная модель НС\n",
        "from tensorflow.keras.models import Sequential, load_model\n",
        "from tensorflow.keras.layers import Conv2D, Dense, Activation, Dropout, \\\n",
        "                              BatchNormalization, Flatten, \\\n",
        "                              MaxPooling2D, Rescaling\n",
        "import tensorflow.lite as lite\n",
        "from tensorflow.keras.optimizers import Adam\n",
        "import numpy as np\n",
        "import pandas as pd\n",
        "import matplotlib.pyplot as plt\n",
        "from sklearn.model_selection import train_test_split\n",
        "from keras.datasets import fashion_mnist\n",
        "import os\n",
        "from tqdm.notebook import tqdm_notebook as tq\n",
        "import zipfile\n",
        "import tensorflow as tf"
      ],
      "execution_count": null,
      "outputs": []
    },
    {
      "cell_type": "markdown",
      "metadata": {
        "id": "f7nIQfV8_FSt"
      },
      "source": [
        "###Вывод примеров"
      ]
    },
    {
      "cell_type": "code",
      "source": [
        "x_train.shape"
      ],
      "metadata": {
        "colab": {
          "base_uri": "https://localhost:8080/"
        },
        "id": "iKIarx_LUzng",
        "outputId": "9fa6a4f5-d57a-40b6-9a19-7fa66113e850"
      },
      "execution_count": null,
      "outputs": [
        {
          "output_type": "execute_result",
          "data": {
            "text/plain": [
              "(50000, 28, 28)"
            ]
          },
          "metadata": {},
          "execution_count": 4
        }
      ]
    },
    {
      "cell_type": "code",
      "metadata": {
        "colab": {
          "base_uri": "https://localhost:8080/"
        },
        "id": "9NcKE36T9SOf",
        "outputId": "e0ad2c69-fe57-4a13-d532-dc76c35598ab"
      },
      "source": [
        "# Загрузка датасета\n",
        "(x_train, y_train), (x_test, y_test) = fashion_mnist.load_data()\n",
        "x_train, x_val, y_train, y_val = train_test_split(x_train, y_train, shuffle=True, test_size=0.16666)\n",
        "\n",
        "# Вывод размерностей выборок\n",
        "\n",
        "print('Размер x_train:',x_train.shape)\n",
        "print('Размер y_train:',y_train.shape)\n",
        "print('Размер x_test:',x_test.shape)\n",
        "print('Размер y_test:',y_test.shape)\n",
        "print('Размер x_val:',x_val.shape)\n",
        "print('Размер y_val:',y_val.shape)"
      ],
      "execution_count": null,
      "outputs": [
        {
          "output_type": "stream",
          "name": "stdout",
          "text": [
            "Downloading data from https://storage.googleapis.com/tensorflow/tf-keras-datasets/train-labels-idx1-ubyte.gz\n",
            "29515/29515 [==============================] - 0s 0us/step\n",
            "Downloading data from https://storage.googleapis.com/tensorflow/tf-keras-datasets/train-images-idx3-ubyte.gz\n",
            "26421880/26421880 [==============================] - 0s 0us/step\n",
            "Downloading data from https://storage.googleapis.com/tensorflow/tf-keras-datasets/t10k-labels-idx1-ubyte.gz\n",
            "5148/5148 [==============================] - 0s 0us/step\n",
            "Downloading data from https://storage.googleapis.com/tensorflow/tf-keras-datasets/t10k-images-idx3-ubyte.gz\n",
            "4422102/4422102 [==============================] - 0s 0us/step\n",
            "Размер x_train: (50000, 28, 28)\n",
            "Размер y_train: (50000,)\n",
            "Размер x_test: (10000, 28, 28)\n",
            "Размер y_test: (10000,)\n",
            "Размер x_val: (10000, 28, 28)\n",
            "Размер y_val: (10000,)\n"
          ]
        }
      ]
    },
    {
      "cell_type": "code",
      "metadata": {
        "id": "fid02wLOD88z",
        "cellView": "form"
      },
      "source": [
        "# @title Callback\n",
        "# Импортируем модуль load_model из tensorflow.keras.models для загрузки модели\n",
        "from tensorflow.keras.models import load_model\n",
        "# Импортируем модуль LambdaCallback из tensorflow.keras.callbacks для создания кастомного коллбэка\n",
        "from tensorflow.keras.callbacks import LambdaCallback\n",
        "# Импортируем модуль seaborn для настройки стиля графиков\n",
        "import seaborn as sns\n",
        "# Устанавливаем стиль графиков в darkgrid\n",
        "sns.set_style('darkgrid')\n",
        "\n",
        "# Определяем ANSI-коды для цветов, которые будем использовать в выводе\n",
        "CYAN = '\\033[36m'\n",
        "BLUE = '\\033[44m'\n",
        "WHITE = '\\033[37;1m'\n",
        "RESET = '\\033[0m'\n",
        "\n",
        "# Определяем класс Callback, который наследует от базового класса object\n",
        "class Callback(object):\n",
        "  \"\"\"Класс для кастомного коллбэка при обучении модели.\"\"\"\n",
        "\n",
        "  # Определяем метод on_train_begin, который вызывается в начале обучения\n",
        "  def on_train_begin(self, logs):\n",
        "    \"\"\"Метод, вызываемый в начале обучения.\"\"\"\n",
        "    # Печатаем заголовок с цветом CYAN и сбрасываем цвет в конце\n",
        "    print(CYAN + '========= Education =========' + RESET)\n",
        "    print('------------------------------')\n",
        "    # Создаем словарь для хранения текущих значений точности на валидации по эпохам\n",
        "    self.curr = {}\n",
        "    # Создаем переменную для хранения лучшего значения точности на валидации\n",
        "    self.best_val = 0\n",
        "    # Создаем переменную для хранения пути к файлу с лучшей моделью\n",
        "    self.path = 'best_model.keras'\n",
        "\n",
        "    # Создаем словарь для хранения истории обучения по метрикам\n",
        "    self.hs = {}\n",
        "    self.hs['loss'] = [] # Список для хранения значений функции потерь на обучающей выборке по эпохам\n",
        "    self.hs['val_loss'] = [] # Список для хранения значений функции потерь на валидационной выборке по эпохам\n",
        "    self.hs['accuracy'] = [] # Список для хранения значений точности на обучающей выборке по эпохам\n",
        "    self.hs['val_accuracy'] = [] # Список для хранения значений точности на валидационной выборке по эпохам\n",
        "\n",
        "\n",
        "  # Определяем метод on_epoch_end, который вызывается в конце каждой эпохи\n",
        "  def on_epoch_end(self, epoch, logs):\n",
        "    \"\"\"Метод, вызываемый в конце каждой эпохи.\"\"\"\n",
        "    # Добавляем значения метрик из аргумента logs в соответствующие списки в словаре hs\n",
        "    self.hs['loss'].append(logs['loss'])\n",
        "    self.hs['val_loss'].append(logs['val_loss'])\n",
        "    self.hs['accuracy'].append(logs['accuracy'])\n",
        "    self.hs['val_accuracy'].append(logs['val_accuracy'])\n",
        "    # Округляем значение точности на валидации до четырех знаков после запятой и сохраняем его в переменной curr_val\n",
        "    self.curr_val = round(logs['val_accuracy'], 4)\n",
        "    # Добавляем пару ключ-значение в словарь curr, где ключ - номер эпохи, а значение - точность на валидации\n",
        "    self.curr[epoch] = self.curr_val\n",
        "\n",
        "    # Если текущее значение точности на валидации больше лучшего значения, то обновляем лучшее значение и сохраняем модель в файл по пути path\n",
        "    if self.best_val < self.curr_val:\n",
        "      self.best_val = self.curr_val\n",
        "      model.save(self.path)\n",
        "\n",
        "  # Определяем метод on_train_end, который вызывается в конце обучения\n",
        "  def on_train_end(self, logs):\n",
        "    \"\"\"Метод, вызываемый в конце обучения.\"\"\"\n",
        "    # Объявляем глобальную переменную model, чтобы иметь к ней доступ извне класса\n",
        "    global model\n",
        "    # Загружаем лучшую модель из файла по пути path и присваиваем ее переменной model\n",
        "    model = load_model(self.path)\n",
        "\n",
        "    # Проходимся по всем парам ключ-значение в словаре curr\n",
        "    for key, val in self.curr.items():\n",
        "      # Если значение равно максимальному значению в словаре curr, то печатаем номер эпохи и значение точности на валидации с цветом BLUE и WHITE и сбрасываем цвет в конце\n",
        "      if val == max(self.curr.values()):\n",
        "        print(BLUE + WHITE + 'epoch: {} val_acc: {}'.format(key+1,val) + RESET)\n",
        "      # Иначе печатаем номер эпохи и значение точности на валидации без цвета\n",
        "      else:\n",
        "        print('epoch: {} val_accuracy: {} '.format(key+1,val))\n",
        "    # Печатаем разделительную линию\n",
        "    print('-------------------------------')\n",
        "    # Печатаем сообщение о завершении обучения с цветом CYAN и сбрасываем цвет в конце\n",
        "    print(CYAN + '====== Training completed ====' + RESET)\n",
        "    print('===============================')\n",
        "\n",
        "    # Создаем фигуру с двумя подграфиками с помощью matplotlib.pyplot (импортирован как plt)\n",
        "    plt.figure(2, figsize=(16,5))\n",
        "\n",
        "    # Выбираем первый подграфик (слева)\n",
        "    plt.subplot(121)\n",
        "    # Задаем заголовок подграфика с текстом 'Accuracy' и параметрами fontsize и color\n",
        "    plt.title('Accuracy', fontsize=18, color='grey')\n",
        "    # Рисуем линию с данными из списка hs['accuracy'], меткой 'accuracy' и цветом 'blue'\n",
        "    plt.plot(self.hs['accuracy'], label='accuracy', c='blue')\n",
        "     # Рисуем линию с данными из списка hs['val_accuracy'], меткой 'val_accuracy' и цветом 'red'\n",
        "    plt.plot(self.hs['val_accuracy'], label='val_accuracy', c='red')\n",
        "     # Задаем подпись оси y с текстом '% accuracy' и параметрами fontsize и color\n",
        "    plt.ylabel('% accuracy', fontsize = 13, color = 'grey')\n",
        "     # Задаем подпись оси x с текстом 'epoch' и параметрами fontsize и color\n",
        "    plt.xlabel('epoch', fontsize = 13, color = 'grey')\n",
        "     # Выводим легенду подграфика с метками линий\n",
        "    plt.legend()\n",
        "\n",
        "     # Выбираем второй подграфик (справа)\n",
        "    plt.subplot(122)\n",
        "     # Задаем заголовок подграфика с текстом 'Loss' и параметрами fontsize и color\n",
        "    plt.title('Loss', fontsize=18, color='grey')\n",
        "     # Рисуем линию с данными из списка hs['loss'], меткой 'loss' и цветом 'blue'\n",
        "    plt.plot(self.hs['loss'], label='loss', c='blue')\n",
        "     # Рисуем линию с данными из списка hs['val_loss'], меткой 'val_loss' и цветом 'red'\n",
        "    plt.plot(self.hs['val_loss'], label='val_loss', c='red')\n",
        "     # Задаем подпись оси y с текстом 'error' и параметрами fontsize и color\n",
        "    plt.ylabel('error', fontsize = 13, color = 'grey')\n",
        "     # Задаем подпись оси x с текстом 'epoch' и параметрами fontsize и color\n",
        "    plt.xlabel('epoch', fontsize = 13, color = 'grey')\n",
        "     # Выводим легенду подграфика с метками линий\n",
        "    plt.legend()\n",
        "     # Показываем фигуру на экране\n",
        "    plt.show()\n",
        "\n",
        "\n",
        "# Создаем экземпляр класса Callback и присваиваем его переменной CaLL\n",
        "CaLL = Callback()\n",
        "\n",
        "# Создаем экземпляр класса LambdaCallback и присваиваем его переменной lamCB\n",
        "# Передаем в конструктор методы on_train_begin, on_epoch_end и on_train_end из экземпляра CaLL\n",
        "lamCB = LambdaCallback(on_train_begin = CaLL.on_train_begin,\n",
        "                       on_epoch_end = CaLL.on_epoch_end,\n",
        "                       on_train_end = CaLL.on_train_end)\n"
      ],
      "execution_count": null,
      "outputs": []
    },
    {
      "cell_type": "code",
      "source": [
        "model = Sequential()\n",
        "\n",
        "model.add(Rescaling(scale=1./255, offset=0.0, input_shape=(28,28,1)))\n",
        "model.add(Conv2D(32, 3, activation='relu', input_shape=(28,28,1)))\n",
        "model.add(BatchNormalization())\n",
        "\n",
        "model.add(Conv2D(32, 3, activation='relu'))\n",
        "model.add(BatchNormalization())\n",
        "model.add(Dropout(0.25))\n",
        "\n",
        "model.add(Conv2D(64, 3, activation='relu'))\n",
        "model.add(MaxPooling2D())\n",
        "model.add(Dropout(0.25))\n",
        "\n",
        "model.add(Conv2D(128, 3, activation='relu'))\n",
        "model.add(BatchNormalization())\n",
        "model.add(Dropout(0.25))\n",
        "\n",
        "model.add(Flatten())\n",
        "model.add(Dense(512, activation='relu'))\n",
        "model.add(BatchNormalization())\n",
        "model.add(Dropout(0.5))\n",
        "model.add(Dense(128, activation='relu'))\n",
        "model.add(BatchNormalization())\n",
        "model.add(Dropout(0.5))\n",
        "\n",
        "model.add(Dense(10, activation=\"softmax\")) # Добавление полносвязного слоя на 10 нейронов с softmax-активацией\n",
        "\n",
        "# Компиляция модели\n",
        "model.compile(loss=\"sparse_categorical_crossentropy\",\n",
        "              optimizer=\"adam\",\n",
        "              metrics=[\"accuracy\"])\n",
        "\n",
        "# Обучение модели\n",
        "model.fit(x_train, # обучающая выборка экземпляры класса\n",
        "          y_train,  # обучающая выборка метки класса\n",
        "          batch_size=128,  # размер батча\n",
        "          epochs=30,  # количество эпох\n",
        "          verbose=1, # 0 - не показывать ход обучения, 1 - показывать\n",
        "          validation_data=(x_val, y_val),\n",
        "          callbacks=lamCB)\n",
        "\n",
        "\n",
        "ev_list = model.evaluate(x_test, y_test)"
      ],
      "metadata": {
        "id": "5Dk94mqR7_1k"
      },
      "execution_count": null,
      "outputs": []
    },
    {
      "cell_type": "code",
      "source": [
        "model.compile(loss=\"sparse_categorical_crossentropy\",\n",
        "              optimizer=Adam(learning_rate=1e-4),\n",
        "              metrics=[\"accuracy\"])\n",
        "\n",
        "# Обучение модели\n",
        "model.fit(x_train, # обучающая выборка экземпляры класса\n",
        "          y_train,  # обучающая выборка метки класса\n",
        "          batch_size=128,  # размер батча\n",
        "          epochs=10,  # количество эпох\n",
        "          verbose=1, # 0 - не показывать ход обучения, 1 - показывать\n",
        "          validation_data=(x_val, y_val),\n",
        "          callbacks=lamCB)"
      ],
      "metadata": {
        "id": "BmOq3Y3Je323",
        "colab": {
          "base_uri": "https://localhost:8080/",
          "height": 1000
        },
        "outputId": "4bf977a6-aade-42f8-dc21-a9eebbb52a49"
      },
      "execution_count": null,
      "outputs": [
        {
          "output_type": "stream",
          "name": "stdout",
          "text": [
            "\u001b[36m========= Education =========\u001b[0m\n",
            "------------------------------\n",
            "Epoch 1/10\n",
            "391/391 [==============================] - 13s 21ms/step - loss: 0.1429 - accuracy: 0.9496 - val_loss: 0.1818 - val_accuracy: 0.9363\n",
            "Epoch 2/10\n",
            "391/391 [==============================] - 8s 20ms/step - loss: 0.1285 - accuracy: 0.9546 - val_loss: 0.1824 - val_accuracy: 0.9376\n",
            "Epoch 3/10\n",
            "391/391 [==============================] - 8s 20ms/step - loss: 0.1213 - accuracy: 0.9570 - val_loss: 0.1840 - val_accuracy: 0.9380\n",
            "Epoch 4/10\n",
            "391/391 [==============================] - 8s 21ms/step - loss: 0.1177 - accuracy: 0.9584 - val_loss: 0.1818 - val_accuracy: 0.9386\n",
            "Epoch 5/10\n",
            "391/391 [==============================] - 8s 20ms/step - loss: 0.1118 - accuracy: 0.9604 - val_loss: 0.1824 - val_accuracy: 0.9389\n",
            "Epoch 6/10\n",
            "391/391 [==============================] - 8s 20ms/step - loss: 0.1063 - accuracy: 0.9614 - val_loss: 0.1871 - val_accuracy: 0.9388\n",
            "Epoch 7/10\n",
            "391/391 [==============================] - 8s 20ms/step - loss: 0.1021 - accuracy: 0.9637 - val_loss: 0.1863 - val_accuracy: 0.9379\n",
            "Epoch 8/10\n",
            "391/391 [==============================] - 8s 20ms/step - loss: 0.0998 - accuracy: 0.9641 - val_loss: 0.1873 - val_accuracy: 0.9391\n",
            "Epoch 9/10\n",
            "391/391 [==============================] - 8s 21ms/step - loss: 0.0952 - accuracy: 0.9661 - val_loss: 0.1887 - val_accuracy: 0.9379\n",
            "Epoch 10/10\n",
            "391/391 [==============================] - 8s 20ms/step - loss: 0.0906 - accuracy: 0.9675 - val_loss: 0.1921 - val_accuracy: 0.9385\n",
            "epoch: 1 val_accuracy: 0.9363 \n",
            "epoch: 2 val_accuracy: 0.9376 \n",
            "epoch: 3 val_accuracy: 0.938 \n",
            "epoch: 4 val_accuracy: 0.9386 \n",
            "epoch: 5 val_accuracy: 0.9389 \n",
            "epoch: 6 val_accuracy: 0.9388 \n",
            "epoch: 7 val_accuracy: 0.9379 \n",
            "\u001b[44m\u001b[37;1mepoch: 8 val_acc: 0.9391\u001b[0m\n",
            "epoch: 9 val_accuracy: 0.9379 \n",
            "epoch: 10 val_accuracy: 0.9385 \n",
            "-------------------------------\n",
            "\u001b[36m====== Training completed ====\u001b[0m\n",
            "===============================\n"
          ]
        },
        {
          "output_type": "display_data",
          "data": {
            "text/plain": [
              "<Figure size 1600x500 with 2 Axes>"
            ],
            "image/png": "[encoded data removed]"
          },
          "metadata": {}
        },
        {
          "output_type": "execute_result",
          "data": {
            "text/plain": [
              "<keras.callbacks.History at 0x7d6a699ae980>"
            ]
          },
          "metadata": {},
          "execution_count": 5
        }
      ]
    },
    {
      "cell_type": "code",
      "source": [
        "model.compile(loss=\"sparse_categorical_crossentropy\",\n",
        "              optimizer=Adam(learning_rate=1e-5),\n",
        "              metrics=[\"accuracy\"])\n",
        "\n",
        "# Обучение модели\n",
        "model.fit(x_train, # обучающая выборка экземпляры класса\n",
        "          y_train,  # обучающая выборка метки класса\n",
        "          batch_size=128,  # размер батча\n",
        "          epochs=30,  # количество эпох\n",
        "          verbose=1, # 0 - не показывать ход обучения, 1 - показывать\n",
        "          validation_data=(x_val, y_val),\n",
        "          callbacks=lamCB)"
      ],
      "metadata": {
        "id": "Z6D_z-DPfkkx",
        "colab": {
          "base_uri": "https://localhost:8080/",
          "height": 1000
        },
        "outputId": "31f26fd3-63e7-46fd-ae0f-7f718ae64e43"
      },
      "execution_count": null,
      "outputs": [
        {
          "output_type": "stream",
          "name": "stdout",
          "text": [
            "\u001b[36m========= Education =========\u001b[0m\n",
            "------------------------------\n",
            "Epoch 1/30\n",
            "391/391 [==============================] - 14s 22ms/step - loss: 0.0938 - accuracy: 0.9673 - val_loss: 0.1870 - val_accuracy: 0.9388\n",
            "Epoch 2/30\n",
            "391/391 [==============================] - 8s 21ms/step - loss: 0.0929 - accuracy: 0.9662 - val_loss: 0.1876 - val_accuracy: 0.9388\n",
            "Epoch 3/30\n",
            "391/391 [==============================] - 8s 20ms/step - loss: 0.0923 - accuracy: 0.9677 - val_loss: 0.1875 - val_accuracy: 0.9385\n",
            "Epoch 4/30\n",
            "391/391 [==============================] - 8s 20ms/step - loss: 0.0906 - accuracy: 0.9676 - val_loss: 0.1872 - val_accuracy: 0.9386\n",
            "Epoch 5/30\n",
            "391/391 [==============================] - 8s 20ms/step - loss: 0.0917 - accuracy: 0.9676 - val_loss: 0.1875 - val_accuracy: 0.9382\n",
            "Epoch 6/30\n",
            "391/391 [==============================] - 8s 21ms/step - loss: 0.0921 - accuracy: 0.9679 - val_loss: 0.1875 - val_accuracy: 0.9389\n",
            "Epoch 7/30\n",
            "391/391 [==============================] - 8s 20ms/step - loss: 0.0890 - accuracy: 0.9684 - val_loss: 0.1878 - val_accuracy: 0.9385\n",
            "Epoch 8/30\n",
            "391/391 [==============================] - 8s 21ms/step - loss: 0.0898 - accuracy: 0.9682 - val_loss: 0.1874 - val_accuracy: 0.9388\n",
            "Epoch 9/30\n",
            "391/391 [==============================] - 8s 20ms/step - loss: 0.0898 - accuracy: 0.9674 - val_loss: 0.1883 - val_accuracy: 0.9386\n",
            "Epoch 10/30\n",
            "391/391 [==============================] - 8s 20ms/step - loss: 0.0871 - accuracy: 0.9685 - val_loss: 0.1885 - val_accuracy: 0.9387\n",
            "Epoch 11/30\n",
            "391/391 [==============================] - 8s 21ms/step - loss: 0.0886 - accuracy: 0.9679 - val_loss: 0.1880 - val_accuracy: 0.9390\n",
            "Epoch 12/30\n",
            "391/391 [==============================] - 8s 20ms/step - loss: 0.0862 - accuracy: 0.9694 - val_loss: 0.1884 - val_accuracy: 0.9385\n",
            "Epoch 13/30\n",
            "391/391 [==============================] - 8s 21ms/step - loss: 0.0889 - accuracy: 0.9690 - val_loss: 0.1884 - val_accuracy: 0.9394\n",
            "Epoch 14/30\n",
            "391/391 [==============================] - 8s 21ms/step - loss: 0.0885 - accuracy: 0.9685 - val_loss: 0.1889 - val_accuracy: 0.9394\n",
            "Epoch 15/30\n",
            "391/391 [==============================] - 8s 20ms/step - loss: 0.0879 - accuracy: 0.9697 - val_loss: 0.1893 - val_accuracy: 0.9392\n",
            "Epoch 16/30\n",
            "391/391 [==============================] - 8s 20ms/step - loss: 0.0855 - accuracy: 0.9694 - val_loss: 0.1891 - val_accuracy: 0.9394\n",
            "Epoch 17/30\n",
            "391/391 [==============================] - 8s 20ms/step - loss: 0.0863 - accuracy: 0.9696 - val_loss: 0.1892 - val_accuracy: 0.9394\n",
            "Epoch 18/30\n",
            "391/391 [==============================] - 8s 20ms/step - loss: 0.0829 - accuracy: 0.9704 - val_loss: 0.1901 - val_accuracy: 0.9394\n",
            "Epoch 19/30\n",
            "391/391 [==============================] - 8s 20ms/step - loss: 0.0826 - accuracy: 0.9708 - val_loss: 0.1909 - val_accuracy: 0.9392\n",
            "Epoch 20/30\n",
            "391/391 [==============================] - 8s 20ms/step - loss: 0.0838 - accuracy: 0.9699 - val_loss: 0.1906 - val_accuracy: 0.9387\n",
            "Epoch 21/30\n",
            "391/391 [==============================] - 8s 20ms/step - loss: 0.0845 - accuracy: 0.9699 - val_loss: 0.1901 - val_accuracy: 0.9390\n",
            "Epoch 22/30\n",
            "391/391 [==============================] - 8s 20ms/step - loss: 0.0820 - accuracy: 0.9702 - val_loss: 0.1908 - val_accuracy: 0.9390\n",
            "Epoch 23/30\n",
            "391/391 [==============================] - 8s 20ms/step - loss: 0.0836 - accuracy: 0.9700 - val_loss: 0.1911 - val_accuracy: 0.9390\n",
            "Epoch 24/30\n",
            "391/391 [==============================] - 8s 21ms/step - loss: 0.0827 - accuracy: 0.9706 - val_loss: 0.1908 - val_accuracy: 0.9396\n",
            "Epoch 25/30\n",
            "391/391 [==============================] - 8s 20ms/step - loss: 0.0816 - accuracy: 0.9714 - val_loss: 0.1908 - val_accuracy: 0.9390\n",
            "Epoch 26/30\n",
            "391/391 [==============================] - 8s 20ms/step - loss: 0.0829 - accuracy: 0.9703 - val_loss: 0.1912 - val_accuracy: 0.9387\n",
            "Epoch 27/30\n",
            "391/391 [==============================] - 8s 20ms/step - loss: 0.0824 - accuracy: 0.9707 - val_loss: 0.1915 - val_accuracy: 0.9386\n",
            "Epoch 28/30\n",
            "391/391 [==============================] - 8s 20ms/step - loss: 0.0803 - accuracy: 0.9717 - val_loss: 0.1917 - val_accuracy: 0.9390\n",
            "Epoch 29/30\n",
            "391/391 [==============================] - 8s 20ms/step - loss: 0.0814 - accuracy: 0.9707 - val_loss: 0.1920 - val_accuracy: 0.9391\n",
            "Epoch 30/30\n",
            "391/391 [==============================] - 8s 21ms/step - loss: 0.0805 - accuracy: 0.9710 - val_loss: 0.1924 - val_accuracy: 0.9389\n",
            "epoch: 1 val_accuracy: 0.9388 \n",
            "epoch: 2 val_accuracy: 0.9388 \n",
            "epoch: 3 val_accuracy: 0.9385 \n",
            "epoch: 4 val_accuracy: 0.9386 \n",
            "epoch: 5 val_accuracy: 0.9382 \n",
            "epoch: 6 val_accuracy: 0.9389 \n",
            "epoch: 7 val_accuracy: 0.9385 \n",
            "epoch: 8 val_accuracy: 0.9388 \n",
            "epoch: 9 val_accuracy: 0.9386 \n",
            "epoch: 10 val_accuracy: 0.9387 \n",
            "epoch: 11 val_accuracy: 0.939 \n",
            "epoch: 12 val_accuracy: 0.9385 \n",
            "epoch: 13 val_accuracy: 0.9394 \n",
            "epoch: 14 val_accuracy: 0.9394 \n",
            "epoch: 15 val_accuracy: 0.9392 \n",
            "epoch: 16 val_accuracy: 0.9394 \n",
            "epoch: 17 val_accuracy: 0.9394 \n",
            "epoch: 18 val_accuracy: 0.9394 \n",
            "epoch: 19 val_accuracy: 0.9392 \n",
            "epoch: 20 val_accuracy: 0.9387 \n",
            "epoch: 21 val_accuracy: 0.939 \n",
            "epoch: 22 val_accuracy: 0.939 \n",
            "epoch: 23 val_accuracy: 0.939 \n",
            "\u001b[44m\u001b[37;1mepoch: 24 val_acc: 0.9396\u001b[0m\n",
            "epoch: 25 val_accuracy: 0.939 \n",
            "epoch: 26 val_accuracy: 0.9387 \n",
            "epoch: 27 val_accuracy: 0.9386 \n",
            "epoch: 28 val_accuracy: 0.939 \n",
            "epoch: 29 val_accuracy: 0.9391 \n",
            "epoch: 30 val_accuracy: 0.9389 \n",
            "-------------------------------\n",
            "\u001b[36m====== Training completed ====\u001b[0m\n",
            "===============================\n"
          ]
        },
        {
          "output_type": "display_data",
          "data": {
            "text/plain": [
              "<Figure size 1600x500 with 2 Axes>"
            ],
            "image/png": "[encoded data removed]"
          },
          "metadata": {}
        },
        {
          "output_type": "execute_result",
          "data": {
            "text/plain": [
              "<keras.callbacks.History at 0x7d69d47d9d50>"
            ]
          },
          "metadata": {},
          "execution_count": 6
        }
      ]
    },
    {
      "cell_type": "code",
      "source": [
        "model.save('/content/drive/MyDrive/Colab Notebooks/Android/Лекция 3/model_FM.keras')"
      ],
      "metadata": {
        "id": "HmUGvUe-6xPI"
      },
      "execution_count": null,
      "outputs": []
    },
    {
      "cell_type": "code",
      "source": [
        "from google.colab import drive\n",
        "drive.mount('/content/drive')"
      ],
      "metadata": {
        "id": "Sz1X3uKigc2v",
        "outputId": "0b1b5786-112f-41e4-bc0a-a85164826963",
        "colab": {
          "base_uri": "https://localhost:8080/"
        }
      },
      "execution_count": null,
      "outputs": [
        {
          "output_type": "stream",
          "name": "stdout",
          "text": [
            "Mounted at /content/drive\n"
          ]
        }
      ]
    },
    {
      "cell_type": "markdown",
      "source": [
        "## ***Конвиртируем в TF Lite***"
      ],
      "metadata": {
        "id": "Hw0VKWMoiyGD"
      }
    },
    {
      "cell_type": "code",
      "source": [
        "path = ('/content/drive/MyDrive/Colab Notebooks/Android/Лекция 3/model_FM.keras')\n",
        "\n",
        "model = load_model(path)\n",
        "round(model.evaluate(x_test, y_test, verbose=0)[1], 4)"
      ],
      "metadata": {
        "colab": {
          "base_uri": "https://localhost:8080/"
        },
        "id": "9CYRe88-i2nl",
        "outputId": "ebae30c8-4090-416d-be98-971533dcb571"
      },
      "execution_count": null,
      "outputs": [
        {
          "output_type": "execute_result",
          "data": {
            "text/plain": [
              "0.9027"
            ]
          },
          "metadata": {},
          "execution_count": 14
        }
      ]
    },
    {
      "cell_type": "code",
      "source": [
        "# @title show_size\n",
        "def show_size(model_1, model_2):\n",
        "  # Сохраняем файлы\n",
        "  model_1.save(\"model.keras\")\n",
        "  open(\"model.tflite\", \"wb\").write(model_2)\n",
        "\n",
        "  # Получаем размер в байтах\n",
        "  keras_size = os.path.getsize(\"model.keras\")\n",
        "  tflite_size = os.path.getsize(\"model.tflite\")\n",
        "\n",
        "  #Конвертируем в мегабайты\n",
        "  keras_size = round(keras_size/ 1e6, 1)\n",
        "  tflite_size = round(tflite_size/ 1e6, 1)\n",
        "\n",
        "  print(f\"Keras: {keras_size} MB\" )\n",
        "  print(f\"tfLITE: {tflite_size} MB\")"
      ],
      "metadata": {
        "cellView": "form",
        "id": "4hnpFUnCjzcb"
      },
      "execution_count": null,
      "outputs": []
    },
    {
      "cell_type": "code",
      "source": [
        "# Создаем конвертер на основе модели Keras\n",
        "converter = tf.lite.TFLiteConverter.from_keras_model(model)\n",
        "\n",
        "# Включаем оптимизации модели по умолчанию\n",
        "# Это сделает модель более компактной и эффективной\n",
        "converter.optimizations = [tf.lite.Optimize.DEFAULT]\n",
        "\n",
        "# Конвертируем модель в формат TensorFlow Lite\n",
        "tflite_model = converter.convert()\n",
        "\n",
        "show_size(model, tflite_model)"
      ],
      "metadata": {
        "colab": {
          "base_uri": "https://localhost:8080/"
        },
        "id": "a_9isgSxkFXv",
        "outputId": "49f37c6d-ca18-4556-8f19-6210b0ee6ff1"
      },
      "execution_count": null,
      "outputs": [
        {
          "output_type": "stream",
          "name": "stderr",
          "text": [
            "WARNING:absl:Found untraced functions such as _jit_compiled_convolution_op, _jit_compiled_convolution_op, _jit_compiled_convolution_op, _update_step_xla while saving (showing 4 of 4). These functions will not be directly callable after loading.\n"
          ]
        },
        {
          "output_type": "stream",
          "name": "stdout",
          "text": [
            "Keras: 58.8 MB\n",
            "tfLITE: 4.9 MB\n"
          ]
        }
      ]
    },
    {
      "cell_type": "markdown",
      "source": [
        "### *Сохраним изображения test fashion mnist*\n",
        "\n",
        "---\n",
        "\n"
      ],
      "metadata": {
        "id": "-2bTtsVToKzb"
      }
    },
    {
      "cell_type": "code",
      "source": [
        "!rm -r images"
      ],
      "metadata": {
        "id": "0af0LO1z9Ss6",
        "colab": {
          "base_uri": "https://localhost:8080/"
        },
        "outputId": "9dbe7259-eea6-46e1-e15d-4ee31ef5c422"
      },
      "execution_count": null,
      "outputs": [
        {
          "output_type": "stream",
          "name": "stdout",
          "text": [
            "rm: cannot remove 'images': No such file or directory\n"
          ]
        }
      ]
    },
    {
      "cell_type": "code",
      "source": [
        "# Классы\n",
        "class_names = ['Футболка', 'Брюки', 'Свитер', 'Платье', 'Пальто',\n",
        "               'Сандалии', 'Рубашка', 'Кроссовки', 'Сумка', 'Ботинки']\n",
        "\n",
        "# Выбираем по 10 изображений на класс\n",
        "num_samples = 10\n",
        "x_samples = []\n",
        "y_samples = []\n",
        "\n",
        "for c in range(len(class_names)):\n",
        "  indices = np.where(y_test == c)[0]\n",
        "  class_samples = np.random.choice(indices, num_samples)\n",
        "\n",
        "  x_class_samples = x_test[class_samples]\n",
        "  y_class_samples = y_test[class_samples]\n",
        "\n",
        "  x_samples.append(x_class_samples)\n",
        "  y_samples.append(y_class_samples)\n",
        "\n",
        "x_samples = np.vstack(x_samples)\n",
        "y_samples = np.hstack(y_samples)\n",
        "\n",
        "# Создаем папку для сохранения\n",
        "if not os.path.exists('images'):\n",
        "    os.mkdir('images')\n",
        "\n",
        "# Сохраняем изображения\n",
        "for i in tq(range(len(x_samples)), desc='Сохранение'):\n",
        "  img = x_samples[i]/255.0\n",
        "  img = img.reshape((28,28))\n",
        "  label = class_names[y_samples[i]]\n",
        "\n",
        "  name = label + '_' + str(i) + '.png'\n",
        "  path = os.path.join('images', name)\n",
        "\n",
        "  plt.imsave(path, img, cmap='gray')\n",
        "\n",
        "print('Готово!')"
      ],
      "metadata": {
        "colab": {
          "base_uri": "https://localhost:8080/",
          "height": 67,
          "referenced_widgets": [
            "d00c65cb7cfb42fe8fed82a89373714c",
            "43cdc4db950a42478896a7560e3033a5",
            "64550782355647f38c707d607824f649",
            "923019e8d61c422892e7ea1a2d0d3bb9",
            "160cddba6a8d4d1a930038e79c33860e",
            "4d241913a4864b7e8b93d081f2684217",
            "fe99a21327df4cc696aaee39beb01f87",
            "9a0ff37a766c44d7aa0e6fbc3c959385",
            "150bd798c0234849ba25336063174340",
            "974505ffc2e2464d88c786cd054c9cb1",
            "8e931fb6d8c64bae8cae152877039944"
          ]
        },
        "id": "-AB2QIzi865c",
        "outputId": "a5af9afd-33c5-49f0-897a-7f83d649011d"
      },
      "execution_count": null,
      "outputs": [
        {
          "output_type": "display_data",
          "data": {
            "text/plain": [
              "Сохранение:   0%|          | 0/100 [00:00<?, ?it/s]"
            ],
            "application/vnd.jupyter.widget-view+json": {
              "version_major": 2,
              "version_minor": 0,
              "model_id": "d00c65cb7cfb42fe8fed82a89373714c"
            }
          },
          "metadata": {}
        },
        {
          "output_type": "stream",
          "name": "stdout",
          "text": [
            "Готово!\n"
          ]
        }
      ]
    },
    {
      "cell_type": "code",
      "source": [
        "# Массив с именами классов\n",
        "class_names = ['Футболка', 'Брюки', 'Свитер', 'Платье', 'Пальто',\n",
        "               'Сандалии', 'Рубашка', 'Кроссовки', 'Сумка', 'Ботинки']\n",
        "\n",
        "# Массив с именами классов для тестовых данных\n",
        "y_test_labels = [class_names[y] for y in y_test]\n",
        "\n",
        "if not os.path.exists('images'):\n",
        "    os.mkdir('images')\n",
        "\n",
        "for i in tq(range(len(x_test)), desc='Сохранение изображений'):\n",
        "    image = x_test[i] / 255.\n",
        "    image = np.squeeze(image)\n",
        "    image = image.reshape((28,28))\n",
        "\n",
        "    # Имя класса и номер\n",
        "    name = y_test_labels[i] + '_' + str(i)\n",
        "\n",
        "    image_path = os.path.join('images', name + '.png')\n",
        "    plt.imsave(image_path, image, cmap='gray')\n",
        "\n",
        "print('Готово!')"
      ],
      "metadata": {
        "colab": {
          "base_uri": "https://localhost:8080/",
          "height": 67,
          "referenced_widgets": [
            "f27dc33b0b1a433294cbf0f67b36d1e0",
            "4b300a6603fb447588c68115c3e566ee",
            "c406bc7cf69349689623157908c01270",
            "55545b9efc6a4c958df0e12822f98bf6",
            "aa644710239949b59deee7bcf9c8915c",
            "2ba48f4192c645d7ab8a0dfadba3f956",
            "58d26b28232c43f8b7377fddb75357b7",
            "0231c0e72d554fd186623aed87351622",
            "5b87ddc63f1a47c9824a7c89e0fbe453",
            "1e998e1508b746228aa22173568f4c63",
            "76d389039d3846d3a413f5d66be76d5a"
          ]
        },
        "id": "Y7U5CXntoJ4E",
        "outputId": "e9da7748-44fa-4215-d08f-063f9b9e1a4c"
      },
      "execution_count": null,
      "outputs": [
        {
          "output_type": "display_data",
          "data": {
            "text/plain": [
              "Сохранение изображений:   0%|          | 0/10000 [00:00<?, ?it/s]"
            ],
            "application/vnd.jupyter.widget-view+json": {
              "version_major": 2,
              "version_minor": 0,
              "model_id": "f27dc33b0b1a433294cbf0f67b36d1e0"
            }
          },
          "metadata": {}
        },
        {
          "output_type": "stream",
          "name": "stdout",
          "text": [
            "Готово!\n"
          ]
        }
      ]
    },
    {
      "cell_type": "code",
      "source": [
        "# Создание ZIP архива\n",
        "zip_path = 'images.zip'\n",
        "with zipfile.ZipFile(zip_path, 'w') as zipf:\n",
        "    for file in os.listdir('images'):\n",
        "        file_path = os.path.join('images', file)\n",
        "        zipf.write(file_path, arcname=file)\n",
        "\n",
        "print('Архив успешно создан!')"
      ],
      "metadata": {
        "colab": {
          "base_uri": "https://localhost:8080/"
        },
        "id": "m7okzk5Jq5T8",
        "outputId": "8341276d-100a-44a4-d1cc-8c5a9be6191e"
      },
      "execution_count": null,
      "outputs": [
        {
          "output_type": "stream",
          "name": "stdout",
          "text": [
            "Архив успешно создан!\n"
          ]
        }
      ]
    },
    {
      "cell_type": "code",
      "source": [
        "import tensorflow.lite as lite"
      ],
      "metadata": {
        "id": "GvqWRyM_vdec"
      },
      "execution_count": null,
      "outputs": []
    },
    {
      "cell_type": "code",
      "source": [
        "# Загрузка модели TFLite\n",
        "interpreter = lite.Interpreter(model_path=\"/content/model.tflite\")\n",
        "\n",
        "# Выделение памяти для тензоров модели\n",
        "interpreter.allocate_tensors()"
      ],
      "metadata": {
        "id": "g0CJXm5lDj58"
      },
      "execution_count": null,
      "outputs": []
    },
    {
      "cell_type": "code",
      "source": [
        "# Получение информации о входных и выходных слоях модели\n",
        "input_details = interpreter.get_input_details()\n",
        "output_details = interpreter.get_output_details()"
      ],
      "metadata": {
        "id": "3wO-URnBvh9A"
      },
      "execution_count": null,
      "outputs": []
    },
    {
      "cell_type": "code",
      "source": [
        "input_shape = input_details[0]['shape']\n",
        "input_shape"
      ],
      "metadata": {
        "colab": {
          "base_uri": "https://localhost:8080/"
        },
        "id": "zDKgONqfvnEs",
        "outputId": "5d11ce33-1918-47f5-951f-94c679859ec6"
      },
      "execution_count": null,
      "outputs": [
        {
          "output_type": "execute_result",
          "data": {
            "text/plain": [
              "array([ 1, 28, 28,  1], dtype=int32)"
            ]
          },
          "metadata": {},
          "execution_count": 20
        }
      ]
    },
    {
      "cell_type": "code",
      "source": [
        "name_class = [\n",
        "    \"Футболка\",\n",
        "    \"Брюки\",\n",
        "    \"Свитер\",\n",
        "    \"Платье\",\n",
        "    \"Пальто\",\n",
        "    \"Сандалии\",\n",
        "    \"Рубашка\",\n",
        "    \"Кроссовки\",\n",
        "    \"Сумка\",\n",
        "    \"Ботинки\"\n",
        "]"
      ],
      "metadata": {
        "id": "Dl2sj2J4vrL-"
      },
      "execution_count": null,
      "outputs": []
    },
    {
      "cell_type": "code",
      "source": [
        "Input_number = 10 # @param {type:\"number\"}\n",
        "\n",
        "\n",
        "im = x_test[Input_number]\n",
        "test = im[None, ..., None]\n",
        "test.astype(np.float32)\n",
        "test.shape"
      ],
      "metadata": {
        "colab": {
          "base_uri": "https://localhost:8080/"
        },
        "id": "VOgHXGS6waw8",
        "outputId": "033c39ea-658a-414e-db51-655d021c50d0"
      },
      "execution_count": null,
      "outputs": [
        {
          "output_type": "execute_result",
          "data": {
            "text/plain": [
              "(1, 28, 28, 1)"
            ]
          },
          "metadata": {},
          "execution_count": 22
        }
      ]
    },
    {
      "cell_type": "code",
      "source": [
        "(x_train, y_train), (x_test, y_test) = fashion_mnist.load_data()"
      ],
      "metadata": {
        "id": "lf6p3LlXxVXJ"
      },
      "execution_count": null,
      "outputs": []
    },
    {
      "cell_type": "code",
      "source": [
        "x_test = x_test[..., None]\n",
        "x_test.shape"
      ],
      "metadata": {
        "colab": {
          "base_uri": "https://localhost:8080/"
        },
        "id": "kpbWFLDT3NVG",
        "outputId": "68a43c67-da8c-4bcd-f343-489f81f251f5"
      },
      "execution_count": null,
      "outputs": [
        {
          "output_type": "execute_result",
          "data": {
            "text/plain": [
              "(10000, 28, 28, 1)"
            ]
          },
          "metadata": {},
          "execution_count": 25
        }
      ]
    },
    {
      "cell_type": "code",
      "source": [
        "x_test[0].shape"
      ],
      "metadata": {
        "colab": {
          "base_uri": "https://localhost:8080/"
        },
        "id": "QHnNNRpp3XnG",
        "outputId": "5a6a6e95-5756-431f-fe8a-b1ec6b55f15b"
      },
      "execution_count": null,
      "outputs": [
        {
          "output_type": "execute_result",
          "data": {
            "text/plain": [
              "(28, 28, 1)"
            ]
          },
          "metadata": {},
          "execution_count": 26
        }
      ]
    },
    {
      "cell_type": "code",
      "source": [
        "Input_number = np.random.randint(1,500)\n",
        "# Загрузка модели\n",
        "interpreter = lite.Interpreter(model_path=\"/content/model.tflite\")\n",
        "interpreter.allocate_tensors()\n",
        "\n",
        "input_details = interpreter.get_input_details()\n",
        "output_details = interpreter.get_output_details()\n",
        "\n",
        "\n",
        "im = x_test[Input_number]\n",
        "test = im[None, ...].astype(np.float32)\n",
        "# Предсказание\n",
        "interpreter.set_tensor(input_details[0]['index'], test)\n",
        "interpreter.invoke()\n",
        "output_data = interpreter.get_tensor(output_details[0]['index'])\n",
        "\n",
        "# Обработка результата\n",
        "res = np.squeeze(output_data)\n",
        "name = name_class[np.argmax(res)]\n",
        "\n",
        "plt.imshow(im, cmap='gray')\n",
        "plt.title(name, c='gray', fontsize=24)\n",
        "plt.show()"
      ],
      "metadata": {
        "colab": {
          "base_uri": "https://localhost:8080/",
          "height": 464
        },
        "id": "hSw_xqFwvpg-",
        "outputId": "8683e1b5-af74-4802-d315-86bef0a49fe3"
      },
      "execution_count": null,
      "outputs": [
        {
          "output_type": "display_data",
          "data": {
            "text/plain": [
              "<Figure size 640x480 with 1 Axes>"
            ],
            "image/png": "[encoded data removed]"
          },
          "metadata": {}
        }
      ]
    },
    {
      "cell_type": "code",
      "source": [
        "input_details[0]['shape']"
      ],
      "metadata": {
        "colab": {
          "base_uri": "https://localhost:8080/"
        },
        "id": "qDOShJuQ2P6C",
        "outputId": "82b02a35-1142-40bc-abf9-901e9a61db77"
      },
      "execution_count": null,
      "outputs": [
        {
          "output_type": "execute_result",
          "data": {
            "text/plain": [
              "array([ 1, 28, 28,  1], dtype=int32)"
            ]
          },
          "metadata": {},
          "execution_count": 29
        }
      ]
    }
  ]
}